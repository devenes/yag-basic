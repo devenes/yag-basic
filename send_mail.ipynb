{
 "cells": [
  {
   "cell_type": "code",
   "execution_count": null,
   "metadata": {},
   "outputs": [
    {
     "ename": "",
     "evalue": "",
     "output_type": "error",
     "traceback": [
      "\u001b[1;31mRunning cells with 'Python 3.10.2 ('venv': venv)' requires ipykernel package.\n",
      "Run the following command to install 'ipykernel' into the Python environment. \n",
      "Command: 'c:/Users/ae/Documents/GitHub/yag-mail/venv/Scripts/python.exe -m pip install ipykernel -U --force-reinstall'"
     ]
    }
   ],
   "source": [
    "{\n",
    "    \"cells\": [\n",
    "        {\n",
    "            \"cell_type\": \"code\",\n",
    "            \"execution_count\": 1,\n",
    "            \"source\": [\n",
    "                \"#importing the Yagmail library\\r\\n\",\n",
    "                \"import yagmail\"\n",
    "            ],\n",
    "            \"outputs\": [],\n",
    "            \"metadata\": {}\n",
    "        },\n",
    "        {\n",
    "            \"cell_type\": \"code\",\n",
    "            \"execution_count\": 2,\n",
    "            \"source\": [\n",
    "                \"\\r\\n\",\n",
    "                \"\\r\\n\",\n",
    "                \"try:\\r\\n\",\n",
    "                \"    #initializing the server connection\\r\\n\",\n",
    "                \"    yag = yagmail.SMTP(user='example@gmail.com', password='Passwrod1234!')\\r\\n\",\n",
    "                \"    #sending the email\\r\\n\",\n",
    "                \"    yag.send(to='kazoum@label.ma', cc = 'mehdi@gmail.com', subject='Testing Yagmail', contents='It worked!', attachments=['inputs/CV_Dev_Enes.pdf', 'inputs/Recommandation Enes Turan.pdf'])\\r\\n\",\n",
    "                \"    print(\\\"Email sent successfully\\\")\\r\\n\",\n",
    "                \"    \\r\\n\",\n",
    "                \"except:\\r\\n\",\n",
    "                \"    print(\\\"Error, email was not sent\\\")\"\n",
    "            ],\n",
    "            \"outputs\": [\n",
    "                {\n",
    "                    \"output_type\": \"stream\",\n",
    "                    \"name\": \"stdout\",\n",
    "                    \"text\": [\n",
    "                        \"Email sent successfully\\n\"\n",
    "                    ]\n",
    "                }\n",
    "            ],\n",
    "            \"metadata\": {}\n",
    "        }\n",
    "    ],\n",
    "    \"metadata\": {\n",
    "        \"orig_nbformat\": 4,\n",
    "        \"language_info\": {\n",
    "            \"name\": \"python\",\n",
    "            \"version\": \"3.8.10\",\n",
    "            \"mimetype\": \"text/x-python\",\n",
    "            \"codemirror_mode\": {\n",
    "                \"name\": \"ipython\",\n",
    "                \"version\": 3\n",
    "            },\n",
    "            \"pygments_lexer\": \"ipython3\",\n",
    "            \"nbconvert_exporter\": \"python\",\n",
    "            \"file_extension\": \".py\"\n",
    "        },\n",
    "        \"kernelspec\": {\n",
    "            \"name\": \"python3\",\n",
    "            \"display_name\": \"Python 3.8.10 64-bit ('Projects': conda)\"\n",
    "        },\n",
    "        \"interpreter\": {\n",
    "            \"hash\": \"c8faec805a12d1b663380d2dace406fb2ecba7e4bc3572c56e84db7a46283368\"\n",
    "        }\n",
    "    },\n",
    "    \"nbformat\": 4,\n",
    "    \"nbformat_minor\": 2\n",
    "}"
   ]
  }
 ],
 "metadata": {
  "interpreter": {
   "hash": "83268bcff376ccea0ceac6413650b87f54abd782388c6f87aa43dc45061a4b3f"
  },
  "kernelspec": {
   "display_name": "Python 3.10.2 ('venv': venv)",
   "language": "python",
   "name": "python3"
  },
  "language_info": {
   "name": "python",
   "version": "3.10.2"
  },
  "orig_nbformat": 4
 },
 "nbformat": 4,
 "nbformat_minor": 2
}
